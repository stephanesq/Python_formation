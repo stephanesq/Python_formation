{
  "nbformat": 4,
  "nbformat_minor": 0,
  "metadata": {
    "colab": {
      "provenance": [],
      "authorship_tag": "ABX9TyOVN/I60FQf82eJTCpAwvNH",
      "include_colab_link": true
    },
    "kernelspec": {
      "name": "python3",
      "display_name": "Python 3"
    },
    "language_info": {
      "name": "python"
    }
  },
  "cells": [
    {
      "cell_type": "markdown",
      "metadata": {
        "id": "view-in-github",
        "colab_type": "text"
      },
      "source": [
        "<a href=\"https://colab.research.google.com/github/stephanesq/Python_formation/blob/main/DataGibberish.ipynb\" target=\"_parent\"><img src=\"https://colab.research.google.com/assets/colab-badge.svg\" alt=\"Open In Colab\"/></a>"
      ]
    },
    {
      "cell_type": "markdown",
      "source": [
        "**Assignment 1 - Decouvrir Python**\n",
        "\n",
        "1.   Define variables for:\n",
        "* Number of launches.\n",
        "* Launch success rate.\n",
        "* Name of the rocket.\n",
        "\n",
        "2.  Print these variables to the console.\n",
        "3. Add comments to explain your code.\n",
        "4. Save your work and commit it to your GitHub repository."
      ],
      "metadata": {
        "id": "cTz8VijyBzTm"
      }
    },
    {
      "cell_type": "code",
      "execution_count": null,
      "metadata": {
        "id": "WNK95CdFsu2p",
        "colab": {
          "base_uri": "https://localhost:8080/"
        },
        "outputId": "288aab32-c7ca-450c-e6c8-15737b236a51"
      },
      "outputs": [
        {
          "output_type": "stream",
          "name": "stdout",
          "text": [
            "10\n"
          ]
        }
      ],
      "source": [
        "# nombre de lancements\n",
        "nb_launches = 10\n",
        "# taux de success\n",
        "success_rate = 0.5\n",
        "# nom\n",
        "rocket_name = \"Ariane 5\"\n",
        "# Impression\n",
        "print(nb_launches)"
      ]
    },
    {
      "cell_type": "markdown",
      "source": [
        "\n",
        "\n",
        "---\n",
        "\n",
        "**Exercice 2 - Découvrir panda**\n",
        "\n",
        "Use pandas to create a DataFrame with SpaceX rocket data.\n",
        "\n",
        "1. Perform the following:\n",
        "* Print the DataFrame.\n",
        "* Select and print the 'rocket' column.\n",
        "* Filter the DataFrame for rockets with more than 5 launches.\n",
        "* Add a new column for 'success_rate'.\n"
      ],
      "metadata": {
        "id": "QWJNPzn_FO17"
      }
    },
    {
      "cell_type": "code",
      "source": [
        "## chargement de panda\n",
        "import pandas as pd\n",
        "\n",
        "## création d'une df\n",
        "nasa = {\n",
        "    'rocket' : [\n",
        "        'Falcon 1',\n",
        "        'Falcon 9',\n",
        "        'Falcon Heavy'\n",
        "    ],\n",
        "    'launches' : [5,100,3]\n",
        "}\n",
        "df_nasa = pd.DataFrame(nasa)\n",
        "\n",
        "print(df_nasa)"
      ],
      "metadata": {
        "colab": {
          "base_uri": "https://localhost:8080/"
        },
        "id": "YaEeD1vOFV67",
        "outputId": "3bb9af5d-80c1-4c4b-c6a8-f3d5d113b89a"
      },
      "execution_count": null,
      "outputs": [
        {
          "output_type": "stream",
          "name": "stdout",
          "text": [
            "         rocket  launches\n",
            "0      Falcon 1         5\n",
            "1      Falcon 9       100\n",
            "2  Falcon Heavy         3\n",
            "0        Falcon 1\n",
            "1        Falcon 9\n",
            "2    Falcon Heavy\n",
            "Name: rocket, dtype: object\n"
          ]
        }
      ]
    },
    {
      "cell_type": "code",
      "source": [
        "#sélectionner la colonne rocket\n",
        "print(df_nasa['rocket'])"
      ],
      "metadata": {
        "colab": {
          "base_uri": "https://localhost:8080/"
        },
        "id": "_yTMR6GnJcas",
        "outputId": "80854973-0c2a-47e2-998e-147d4d51333e"
      },
      "execution_count": null,
      "outputs": [
        {
          "output_type": "stream",
          "name": "stdout",
          "text": [
            "0        Falcon 1\n",
            "1        Falcon 9\n",
            "2    Falcon Heavy\n",
            "Name: rocket, dtype: object\n"
          ]
        }
      ]
    },
    {
      "cell_type": "code",
      "source": [
        "# filtre tir >= 5\n",
        "df_nasa[df_nasa['launches'] >= 5]"
      ],
      "metadata": {
        "colab": {
          "base_uri": "https://localhost:8080/",
          "height": 112
        },
        "id": "lpkZC0gCJdAY",
        "outputId": "b7cc65da-7183-4b9e-f815-4f636f99120b"
      },
      "execution_count": null,
      "outputs": [
        {
          "output_type": "execute_result",
          "data": {
            "text/plain": [
              "     rocket  launches  success_rate\n",
              "0  Falcon 1         5           0.3\n",
              "1  Falcon 9       100           0.8"
            ],
            "text/html": [
              "\n",
              "  <div id=\"df-e08e4ce1-af98-488e-8d53-1d76e8b26b4a\" class=\"colab-df-container\">\n",
              "    <div>\n",
              "<style scoped>\n",
              "    .dataframe tbody tr th:only-of-type {\n",
              "        vertical-align: middle;\n",
              "    }\n",
              "\n",
              "    .dataframe tbody tr th {\n",
              "        vertical-align: top;\n",
              "    }\n",
              "\n",
              "    .dataframe thead th {\n",
              "        text-align: right;\n",
              "    }\n",
              "</style>\n",
              "<table border=\"1\" class=\"dataframe\">\n",
              "  <thead>\n",
              "    <tr style=\"text-align: right;\">\n",
              "      <th></th>\n",
              "      <th>rocket</th>\n",
              "      <th>launches</th>\n",
              "      <th>success_rate</th>\n",
              "    </tr>\n",
              "  </thead>\n",
              "  <tbody>\n",
              "    <tr>\n",
              "      <th>0</th>\n",
              "      <td>Falcon 1</td>\n",
              "      <td>5</td>\n",
              "      <td>0.3</td>\n",
              "    </tr>\n",
              "    <tr>\n",
              "      <th>1</th>\n",
              "      <td>Falcon 9</td>\n",
              "      <td>100</td>\n",
              "      <td>0.8</td>\n",
              "    </tr>\n",
              "  </tbody>\n",
              "</table>\n",
              "</div>\n",
              "    <div class=\"colab-df-buttons\">\n",
              "\n",
              "  <div class=\"colab-df-container\">\n",
              "    <button class=\"colab-df-convert\" onclick=\"convertToInteractive('df-e08e4ce1-af98-488e-8d53-1d76e8b26b4a')\"\n",
              "            title=\"Convert this dataframe to an interactive table.\"\n",
              "            style=\"display:none;\">\n",
              "\n",
              "  <svg xmlns=\"http://www.w3.org/2000/svg\" height=\"24px\" viewBox=\"0 -960 960 960\">\n",
              "    <path d=\"M120-120v-720h720v720H120Zm60-500h600v-160H180v160Zm220 220h160v-160H400v160Zm0 220h160v-160H400v160ZM180-400h160v-160H180v160Zm440 0h160v-160H620v160ZM180-180h160v-160H180v160Zm440 0h160v-160H620v160Z\"/>\n",
              "  </svg>\n",
              "    </button>\n",
              "\n",
              "  <style>\n",
              "    .colab-df-container {\n",
              "      display:flex;\n",
              "      gap: 12px;\n",
              "    }\n",
              "\n",
              "    .colab-df-convert {\n",
              "      background-color: #E8F0FE;\n",
              "      border: none;\n",
              "      border-radius: 50%;\n",
              "      cursor: pointer;\n",
              "      display: none;\n",
              "      fill: #1967D2;\n",
              "      height: 32px;\n",
              "      padding: 0 0 0 0;\n",
              "      width: 32px;\n",
              "    }\n",
              "\n",
              "    .colab-df-convert:hover {\n",
              "      background-color: #E2EBFA;\n",
              "      box-shadow: 0px 1px 2px rgba(60, 64, 67, 0.3), 0px 1px 3px 1px rgba(60, 64, 67, 0.15);\n",
              "      fill: #174EA6;\n",
              "    }\n",
              "\n",
              "    .colab-df-buttons div {\n",
              "      margin-bottom: 4px;\n",
              "    }\n",
              "\n",
              "    [theme=dark] .colab-df-convert {\n",
              "      background-color: #3B4455;\n",
              "      fill: #D2E3FC;\n",
              "    }\n",
              "\n",
              "    [theme=dark] .colab-df-convert:hover {\n",
              "      background-color: #434B5C;\n",
              "      box-shadow: 0px 1px 3px 1px rgba(0, 0, 0, 0.15);\n",
              "      filter: drop-shadow(0px 1px 2px rgba(0, 0, 0, 0.3));\n",
              "      fill: #FFFFFF;\n",
              "    }\n",
              "  </style>\n",
              "\n",
              "    <script>\n",
              "      const buttonEl =\n",
              "        document.querySelector('#df-e08e4ce1-af98-488e-8d53-1d76e8b26b4a button.colab-df-convert');\n",
              "      buttonEl.style.display =\n",
              "        google.colab.kernel.accessAllowed ? 'block' : 'none';\n",
              "\n",
              "      async function convertToInteractive(key) {\n",
              "        const element = document.querySelector('#df-e08e4ce1-af98-488e-8d53-1d76e8b26b4a');\n",
              "        const dataTable =\n",
              "          await google.colab.kernel.invokeFunction('convertToInteractive',\n",
              "                                                    [key], {});\n",
              "        if (!dataTable) return;\n",
              "\n",
              "        const docLinkHtml = 'Like what you see? Visit the ' +\n",
              "          '<a target=\"_blank\" href=https://colab.research.google.com/notebooks/data_table.ipynb>data table notebook</a>'\n",
              "          + ' to learn more about interactive tables.';\n",
              "        element.innerHTML = '';\n",
              "        dataTable['output_type'] = 'display_data';\n",
              "        await google.colab.output.renderOutput(dataTable, element);\n",
              "        const docLink = document.createElement('div');\n",
              "        docLink.innerHTML = docLinkHtml;\n",
              "        element.appendChild(docLink);\n",
              "      }\n",
              "    </script>\n",
              "  </div>\n",
              "\n",
              "\n",
              "<div id=\"df-983adad2-37fb-49b0-8826-12df72f5d09e\">\n",
              "  <button class=\"colab-df-quickchart\" onclick=\"quickchart('df-983adad2-37fb-49b0-8826-12df72f5d09e')\"\n",
              "            title=\"Suggest charts\"\n",
              "            style=\"display:none;\">\n",
              "\n",
              "<svg xmlns=\"http://www.w3.org/2000/svg\" height=\"24px\"viewBox=\"0 0 24 24\"\n",
              "     width=\"24px\">\n",
              "    <g>\n",
              "        <path d=\"M19 3H5c-1.1 0-2 .9-2 2v14c0 1.1.9 2 2 2h14c1.1 0 2-.9 2-2V5c0-1.1-.9-2-2-2zM9 17H7v-7h2v7zm4 0h-2V7h2v10zm4 0h-2v-4h2v4z\"/>\n",
              "    </g>\n",
              "</svg>\n",
              "  </button>\n",
              "\n",
              "<style>\n",
              "  .colab-df-quickchart {\n",
              "      --bg-color: #E8F0FE;\n",
              "      --fill-color: #1967D2;\n",
              "      --hover-bg-color: #E2EBFA;\n",
              "      --hover-fill-color: #174EA6;\n",
              "      --disabled-fill-color: #AAA;\n",
              "      --disabled-bg-color: #DDD;\n",
              "  }\n",
              "\n",
              "  [theme=dark] .colab-df-quickchart {\n",
              "      --bg-color: #3B4455;\n",
              "      --fill-color: #D2E3FC;\n",
              "      --hover-bg-color: #434B5C;\n",
              "      --hover-fill-color: #FFFFFF;\n",
              "      --disabled-bg-color: #3B4455;\n",
              "      --disabled-fill-color: #666;\n",
              "  }\n",
              "\n",
              "  .colab-df-quickchart {\n",
              "    background-color: var(--bg-color);\n",
              "    border: none;\n",
              "    border-radius: 50%;\n",
              "    cursor: pointer;\n",
              "    display: none;\n",
              "    fill: var(--fill-color);\n",
              "    height: 32px;\n",
              "    padding: 0;\n",
              "    width: 32px;\n",
              "  }\n",
              "\n",
              "  .colab-df-quickchart:hover {\n",
              "    background-color: var(--hover-bg-color);\n",
              "    box-shadow: 0 1px 2px rgba(60, 64, 67, 0.3), 0 1px 3px 1px rgba(60, 64, 67, 0.15);\n",
              "    fill: var(--button-hover-fill-color);\n",
              "  }\n",
              "\n",
              "  .colab-df-quickchart-complete:disabled,\n",
              "  .colab-df-quickchart-complete:disabled:hover {\n",
              "    background-color: var(--disabled-bg-color);\n",
              "    fill: var(--disabled-fill-color);\n",
              "    box-shadow: none;\n",
              "  }\n",
              "\n",
              "  .colab-df-spinner {\n",
              "    border: 2px solid var(--fill-color);\n",
              "    border-color: transparent;\n",
              "    border-bottom-color: var(--fill-color);\n",
              "    animation:\n",
              "      spin 1s steps(1) infinite;\n",
              "  }\n",
              "\n",
              "  @keyframes spin {\n",
              "    0% {\n",
              "      border-color: transparent;\n",
              "      border-bottom-color: var(--fill-color);\n",
              "      border-left-color: var(--fill-color);\n",
              "    }\n",
              "    20% {\n",
              "      border-color: transparent;\n",
              "      border-left-color: var(--fill-color);\n",
              "      border-top-color: var(--fill-color);\n",
              "    }\n",
              "    30% {\n",
              "      border-color: transparent;\n",
              "      border-left-color: var(--fill-color);\n",
              "      border-top-color: var(--fill-color);\n",
              "      border-right-color: var(--fill-color);\n",
              "    }\n",
              "    40% {\n",
              "      border-color: transparent;\n",
              "      border-right-color: var(--fill-color);\n",
              "      border-top-color: var(--fill-color);\n",
              "    }\n",
              "    60% {\n",
              "      border-color: transparent;\n",
              "      border-right-color: var(--fill-color);\n",
              "    }\n",
              "    80% {\n",
              "      border-color: transparent;\n",
              "      border-right-color: var(--fill-color);\n",
              "      border-bottom-color: var(--fill-color);\n",
              "    }\n",
              "    90% {\n",
              "      border-color: transparent;\n",
              "      border-bottom-color: var(--fill-color);\n",
              "    }\n",
              "  }\n",
              "</style>\n",
              "\n",
              "  <script>\n",
              "    async function quickchart(key) {\n",
              "      const quickchartButtonEl =\n",
              "        document.querySelector('#' + key + ' button');\n",
              "      quickchartButtonEl.disabled = true;  // To prevent multiple clicks.\n",
              "      quickchartButtonEl.classList.add('colab-df-spinner');\n",
              "      try {\n",
              "        const charts = await google.colab.kernel.invokeFunction(\n",
              "            'suggestCharts', [key], {});\n",
              "      } catch (error) {\n",
              "        console.error('Error during call to suggestCharts:', error);\n",
              "      }\n",
              "      quickchartButtonEl.classList.remove('colab-df-spinner');\n",
              "      quickchartButtonEl.classList.add('colab-df-quickchart-complete');\n",
              "    }\n",
              "    (() => {\n",
              "      let quickchartButtonEl =\n",
              "        document.querySelector('#df-983adad2-37fb-49b0-8826-12df72f5d09e button');\n",
              "      quickchartButtonEl.style.display =\n",
              "        google.colab.kernel.accessAllowed ? 'block' : 'none';\n",
              "    })();\n",
              "  </script>\n",
              "</div>\n",
              "\n",
              "    </div>\n",
              "  </div>\n"
            ],
            "application/vnd.google.colaboratory.intrinsic+json": {
              "type": "dataframe",
              "summary": "{\n  \"name\": \"df_nasa[df_nasa['launches'] >= 5]\",\n  \"rows\": 2,\n  \"fields\": [\n    {\n      \"column\": \"rocket\",\n      \"properties\": {\n        \"dtype\": \"string\",\n        \"num_unique_values\": 2,\n        \"samples\": [\n          \"Falcon 9\",\n          \"Falcon 1\"\n        ],\n        \"semantic_type\": \"\",\n        \"description\": \"\"\n      }\n    },\n    {\n      \"column\": \"launches\",\n      \"properties\": {\n        \"dtype\": \"number\",\n        \"std\": 67,\n        \"min\": 5,\n        \"max\": 100,\n        \"num_unique_values\": 2,\n        \"samples\": [\n          100,\n          5\n        ],\n        \"semantic_type\": \"\",\n        \"description\": \"\"\n      }\n    },\n    {\n      \"column\": \"success_rate\",\n      \"properties\": {\n        \"dtype\": \"number\",\n        \"std\": 0.3535533905932738,\n        \"min\": 0.3,\n        \"max\": 0.8,\n        \"num_unique_values\": 2,\n        \"samples\": [\n          0.8,\n          0.3\n        ],\n        \"semantic_type\": \"\",\n        \"description\": \"\"\n      }\n    }\n  ]\n}"
            }
          },
          "metadata": {},
          "execution_count": 5
        }
      ]
    },
    {
      "cell_type": "code",
      "source": [
        "# ajout le taux de succès\n",
        "df_nasa['success_rate'] = [0.3, 0.8, 1.0]"
      ],
      "metadata": {
        "id": "Pztj7KXwJhdB"
      },
      "execution_count": null,
      "outputs": []
    },
    {
      "cell_type": "markdown",
      "source": [
        "**Assignment 3 -- API avec requests**\n",
        "\n",
        "\n",
        "\n",
        "1. Librairie request\n",
        "2. Récupérer les données\n",
        "3. Transformer en DataFrame (pandas)\n",
        "\n"
      ],
      "metadata": {
        "id": "u7slMPywBnxX"
      }
    },
    {
      "cell_type": "code",
      "source": [
        "import requests as rq\n",
        "import pandas as pd"
      ],
      "metadata": {
        "id": "rSWK-quYBnJg"
      },
      "execution_count": 5,
      "outputs": []
    },
    {
      "cell_type": "code",
      "source": [
        "# récupérer les données\n",
        "response = rq.get('https://api.spacexdata.com/v4/launches')\n",
        "data_spacex = response.json()"
      ],
      "metadata": {
        "id": "trUg5affCjuq"
      },
      "execution_count": 7,
      "outputs": []
    },
    {
      "cell_type": "code",
      "source": [
        "#convert to df\n",
        "df_spacex = pd.DataFrame(data_spacex)\n",
        "#head\n",
        "df_spacex = print(df_spacex.head(5))"
      ],
      "metadata": {
        "colab": {
          "base_uri": "https://localhost:8080/"
        },
        "id": "pQR-iAG6EfIU",
        "outputId": "992eb347-4b30-45c8-b405-e3561a883697"
      },
      "execution_count": 8,
      "outputs": [
        {
          "output_type": "stream",
          "name": "stdout",
          "text": [
            "                                            fairings  \\\n",
            "0  {'reused': False, 'recovery_attempt': False, '...   \n",
            "1  {'reused': False, 'recovery_attempt': False, '...   \n",
            "2  {'reused': False, 'recovery_attempt': False, '...   \n",
            "3  {'reused': False, 'recovery_attempt': False, '...   \n",
            "4  {'reused': False, 'recovery_attempt': False, '...   \n",
            "\n",
            "                                               links  \\\n",
            "0  {'patch': {'small': 'https://images2.imgbox.co...   \n",
            "1  {'patch': {'small': 'https://images2.imgbox.co...   \n",
            "2  {'patch': {'small': 'https://images2.imgbox.co...   \n",
            "3  {'patch': {'small': 'https://images2.imgbox.co...   \n",
            "4  {'patch': {'small': 'https://images2.imgbox.co...   \n",
            "\n",
            "       static_fire_date_utc  static_fire_date_unix    net  window  \\\n",
            "0  2006-03-17T00:00:00.000Z           1.142554e+09  False     0.0   \n",
            "1                      None                    NaN  False     0.0   \n",
            "2                      None                    NaN  False     0.0   \n",
            "3  2008-09-20T00:00:00.000Z           1.221869e+09  False     0.0   \n",
            "4                      None                    NaN  False     0.0   \n",
            "\n",
            "                     rocket success  \\\n",
            "0  5e9d0d95eda69955f709d1eb   False   \n",
            "1  5e9d0d95eda69955f709d1eb   False   \n",
            "2  5e9d0d95eda69955f709d1eb   False   \n",
            "3  5e9d0d95eda69955f709d1eb    True   \n",
            "4  5e9d0d95eda69955f709d1eb    True   \n",
            "\n",
            "                                            failures  \\\n",
            "0  [{'time': 33, 'altitude': None, 'reason': 'mer...   \n",
            "1  [{'time': 301, 'altitude': 289, 'reason': 'har...   \n",
            "2  [{'time': 140, 'altitude': 35, 'reason': 'resi...   \n",
            "3                                                 []   \n",
            "4                                                 []   \n",
            "\n",
            "                                             details  ...  \\\n",
            "0   Engine failure at 33 seconds and loss of vehicle  ...   \n",
            "1  Successful first stage burn and transition to ...  ...   \n",
            "2  Residual stage 1 thrust led to collision betwe...  ...   \n",
            "3  Ratsat was carried to orbit on the first succe...  ...   \n",
            "4                                               None  ...   \n",
            "\n",
            "                   date_utc   date_unix                 date_local  \\\n",
            "0  2006-03-24T22:30:00.000Z  1143239400  2006-03-25T10:30:00+12:00   \n",
            "1  2007-03-21T01:10:00.000Z  1174439400  2007-03-21T13:10:00+12:00   \n",
            "2  2008-08-03T03:34:00.000Z  1217734440  2008-08-03T15:34:00+12:00   \n",
            "3  2008-09-28T23:15:00.000Z  1222643700  2008-09-28T11:15:00+12:00   \n",
            "4  2009-07-13T03:35:00.000Z  1247456100  2009-07-13T15:35:00+12:00   \n",
            "\n",
            "  date_precision upcoming                                              cores  \\\n",
            "0           hour    False  [{'core': '5e9e289df35918033d3b2623', 'flight'...   \n",
            "1           hour    False  [{'core': '5e9e289ef35918416a3b2624', 'flight'...   \n",
            "2           hour    False  [{'core': '5e9e289ef3591814873b2625', 'flight'...   \n",
            "3           hour    False  [{'core': '5e9e289ef3591855dc3b2626', 'flight'...   \n",
            "4           hour    False  [{'core': '5e9e289ef359184f103b2627', 'flight'...   \n",
            "\n",
            "  auto_update    tbd  launch_library_id                        id  \n",
            "0        True  False               None  5eb87cd9ffd86e000604b32a  \n",
            "1        True  False               None  5eb87cdaffd86e000604b32b  \n",
            "2        True  False               None  5eb87cdbffd86e000604b32c  \n",
            "3        True  False               None  5eb87cdbffd86e000604b32d  \n",
            "4        True  False               None  5eb87cdcffd86e000604b32e  \n",
            "\n",
            "[5 rows x 27 columns]\n"
          ]
        }
      ]
    },
    {
      "cell_type": "markdown",
      "source": [
        "**Assignment 4 -- API avec pandas**\n",
        "\n",
        "Pourquoi ? Plus rapide\n",
        "\n",
        "1. Librairie request\n",
        "2. Récupérer les données\n",
        "3. Transformer en DataFrame (pandas)\n",
        "\n"
      ],
      "metadata": {
        "id": "UicC8fM8FGGu"
      }
    },
    {
      "cell_type": "code",
      "source": [
        "import pandas as pd"
      ],
      "metadata": {
        "id": "0IdM_-KSFF3j"
      },
      "execution_count": null,
      "outputs": []
    },
    {
      "cell_type": "code",
      "source": [
        "# récupérer les données\n",
        "url_api = 'https://api.spacexdata.com/v4/launches'\n",
        "data_spacex = pd.read_json(url_api)\n",
        "\n",
        "#head\n",
        "print(data_spacex.head(5))\n"
      ],
      "metadata": {
        "colab": {
          "base_uri": "https://localhost:8080/"
        },
        "id": "0Rb2eoHVFvaz",
        "outputId": "d617d866-a6b7-4b25-82d2-4f0e49472d7b"
      },
      "execution_count": 11,
      "outputs": [
        {
          "output_type": "stream",
          "name": "stdout",
          "text": [
            "                                            fairings  \\\n",
            "0  {'reused': False, 'recovery_attempt': False, '...   \n",
            "1  {'reused': False, 'recovery_attempt': False, '...   \n",
            "2  {'reused': False, 'recovery_attempt': False, '...   \n",
            "3  {'reused': False, 'recovery_attempt': False, '...   \n",
            "4  {'reused': False, 'recovery_attempt': False, '...   \n",
            "\n",
            "                                               links  \\\n",
            "0  {'patch': {'small': 'https://images2.imgbox.co...   \n",
            "1  {'patch': {'small': 'https://images2.imgbox.co...   \n",
            "2  {'patch': {'small': 'https://images2.imgbox.co...   \n",
            "3  {'patch': {'small': 'https://images2.imgbox.co...   \n",
            "4  {'patch': {'small': 'https://images2.imgbox.co...   \n",
            "\n",
            "       static_fire_date_utc  static_fire_date_unix    net  window  \\\n",
            "0  2006-03-17T00:00:00.000Z           1.142554e+09  False     0.0   \n",
            "1                      None                    NaN  False     0.0   \n",
            "2                      None                    NaN  False     0.0   \n",
            "3  2008-09-20T00:00:00.000Z           1.221869e+09  False     0.0   \n",
            "4                      None                    NaN  False     0.0   \n",
            "\n",
            "                     rocket  success  \\\n",
            "0  5e9d0d95eda69955f709d1eb      0.0   \n",
            "1  5e9d0d95eda69955f709d1eb      0.0   \n",
            "2  5e9d0d95eda69955f709d1eb      0.0   \n",
            "3  5e9d0d95eda69955f709d1eb      1.0   \n",
            "4  5e9d0d95eda69955f709d1eb      1.0   \n",
            "\n",
            "                                            failures  \\\n",
            "0  [{'time': 33, 'altitude': None, 'reason': 'mer...   \n",
            "1  [{'time': 301, 'altitude': 289, 'reason': 'har...   \n",
            "2  [{'time': 140, 'altitude': 35, 'reason': 'resi...   \n",
            "3                                                 []   \n",
            "4                                                 []   \n",
            "\n",
            "                                             details  ...  \\\n",
            "0   Engine failure at 33 seconds and loss of vehicle  ...   \n",
            "1  Successful first stage burn and transition to ...  ...   \n",
            "2  Residual stage 1 thrust led to collision betwe...  ...   \n",
            "3  Ratsat was carried to orbit on the first succe...  ...   \n",
            "4                                               None  ...   \n",
            "\n",
            "                   date_utc   date_unix                 date_local  \\\n",
            "0  2006-03-24T22:30:00.000Z  1143239400  2006-03-25T10:30:00+12:00   \n",
            "1  2007-03-21T01:10:00.000Z  1174439400  2007-03-21T13:10:00+12:00   \n",
            "2  2008-08-03T03:34:00.000Z  1217734440  2008-08-03T15:34:00+12:00   \n",
            "3  2008-09-28T23:15:00.000Z  1222643700  2008-09-28T11:15:00+12:00   \n",
            "4  2009-07-13T03:35:00.000Z  1247456100  2009-07-13T15:35:00+12:00   \n",
            "\n",
            "  date_precision upcoming                                              cores  \\\n",
            "0           hour    False  [{'core': '5e9e289df35918033d3b2623', 'flight'...   \n",
            "1           hour    False  [{'core': '5e9e289ef35918416a3b2624', 'flight'...   \n",
            "2           hour    False  [{'core': '5e9e289ef3591814873b2625', 'flight'...   \n",
            "3           hour    False  [{'core': '5e9e289ef3591855dc3b2626', 'flight'...   \n",
            "4           hour    False  [{'core': '5e9e289ef359184f103b2627', 'flight'...   \n",
            "\n",
            "  auto_update    tbd  launch_library_id                        id  \n",
            "0        True  False               None  5eb87cd9ffd86e000604b32a  \n",
            "1        True  False               None  5eb87cdaffd86e000604b32b  \n",
            "2        True  False               None  5eb87cdbffd86e000604b32c  \n",
            "3        True  False               None  5eb87cdbffd86e000604b32d  \n",
            "4        True  False               None  5eb87cdcffd86e000604b32e  \n",
            "\n",
            "[5 rows x 27 columns]\n",
            "Index(['fairings', 'links', 'static_fire_date_utc', 'static_fire_date_unix',\n",
            "       'net', 'window', 'rocket', 'success', 'failures', 'details', 'crew',\n",
            "       'ships', 'capsules', 'payloads', 'launchpad', 'flight_number', 'name',\n",
            "       'date_utc', 'date_unix', 'date_local', 'date_precision', 'upcoming',\n",
            "       'cores', 'auto_update', 'tbd', 'launch_library_id', 'id'],\n",
            "      dtype='object')\n"
          ]
        }
      ]
    },
    {
      "cell_type": "code",
      "source": [
        "#head des colonnes\n",
        "print(data_spacex.head().columns)"
      ],
      "metadata": {
        "colab": {
          "base_uri": "https://localhost:8080/"
        },
        "id": "3aS7VyBTGYAG",
        "outputId": "6edfcacf-28ba-43ce-ffc7-3a833b2567d7"
      },
      "execution_count": 12,
      "outputs": [
        {
          "output_type": "stream",
          "name": "stdout",
          "text": [
            "Index(['fairings', 'links', 'static_fire_date_utc', 'static_fire_date_unix',\n",
            "       'net', 'window', 'rocket', 'success', 'failures', 'details', 'crew',\n",
            "       'ships', 'capsules', 'payloads', 'launchpad', 'flight_number', 'name',\n",
            "       'date_utc', 'date_unix', 'date_local', 'date_precision', 'upcoming',\n",
            "       'cores', 'auto_update', 'tbd', 'launch_library_id', 'id'],\n",
            "      dtype='object')\n"
          ]
        }
      ]
    },
    {
      "cell_type": "code",
      "source": [
        "#head des types\n",
        "print(data_spacex.head().dtypes)"
      ],
      "metadata": {
        "colab": {
          "base_uri": "https://localhost:8080/"
        },
        "id": "fdvukMPiGb1n",
        "outputId": "161bf414-6974-4e6b-e2a4-e197decef977"
      },
      "execution_count": 13,
      "outputs": [
        {
          "output_type": "stream",
          "name": "stdout",
          "text": [
            "fairings                  object\n",
            "links                     object\n",
            "static_fire_date_utc      object\n",
            "static_fire_date_unix    float64\n",
            "net                         bool\n",
            "window                   float64\n",
            "rocket                    object\n",
            "success                  float64\n",
            "failures                  object\n",
            "details                   object\n",
            "crew                      object\n",
            "ships                     object\n",
            "capsules                  object\n",
            "payloads                  object\n",
            "launchpad                 object\n",
            "flight_number              int64\n",
            "name                      object\n",
            "date_utc                  object\n",
            "date_unix                  int64\n",
            "date_local                object\n",
            "date_precision            object\n",
            "upcoming                    bool\n",
            "cores                     object\n",
            "auto_update                 bool\n",
            "tbd                         bool\n",
            "launch_library_id         object\n",
            "id                        object\n",
            "dtype: object\n"
          ]
        }
      ]
    }
  ]
}