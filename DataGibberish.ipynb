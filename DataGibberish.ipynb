{
  "nbformat": 4,
  "nbformat_minor": 0,
  "metadata": {
    "colab": {
      "provenance": [],
      "authorship_tag": "ABX9TyN/yW0mbv+6/VouBCYrVnxh",
      "include_colab_link": true
    },
    "kernelspec": {
      "name": "python3",
      "display_name": "Python 3"
    },
    "language_info": {
      "name": "python"
    }
  },
  "cells": [
    {
      "cell_type": "markdown",
      "metadata": {
        "id": "view-in-github",
        "colab_type": "text"
      },
      "source": [
        "<a href=\"https://colab.research.google.com/github/stephanesq/Python_formation/blob/main/DataGibberish.ipynb\" target=\"_parent\"><img src=\"https://colab.research.google.com/assets/colab-badge.svg\" alt=\"Open In Colab\"/></a>"
      ]
    },
    {
      "cell_type": "markdown",
      "source": [
        "Assignment 1\n",
        "\n",
        "1.   Define variables for:\n",
        "* Number of launches.\n",
        "* Launch success rate.\n",
        "* Name of the rocket.\n",
        "\n",
        "2.  Print these variables to the console.\n",
        "3. Add comments to explain your code.\n",
        "4. Save your work and commit it to your GitHub repository."
      ],
      "metadata": {
        "id": "cTz8VijyBzTm"
      }
    },
    {
      "cell_type": "code",
      "execution_count": 1,
      "metadata": {
        "id": "WNK95CdFsu2p",
        "colab": {
          "base_uri": "https://localhost:8080/"
        },
        "outputId": "288aab32-c7ca-450c-e6c8-15737b236a51"
      },
      "outputs": [
        {
          "output_type": "stream",
          "name": "stdout",
          "text": [
            "10\n"
          ]
        }
      ],
      "source": [
        "# nombre de lancements\n",
        "nb_launches = 10\n",
        "# taux de success\n",
        "success_rate = 0.5\n",
        "# nom\n",
        "rocket_name = \"Ariane 5\"\n",
        "# Impression\n",
        "print(nb_launches)"
      ]
    }
  ]
}